{
 "cells": [
  {
   "cell_type": "code",
   "execution_count": 4,
   "metadata": {},
   "outputs": [
    {
     "name": "stdout",
     "output_type": "stream",
     "text": [
      "Arquivo completo salvo em: listacompleta.txt\n",
      "Número total de registros na lista completa: 4458\n",
      "Número de registros com T = -6: 18\n",
      "Arquivo salvo em: ./listaT_T-6.txt\n",
      "Número de registros com T = -5: 227\n",
      "Arquivo salvo em: ./listaT_T-5.txt\n",
      "Número de registros com T = -4: 44\n",
      "Arquivo salvo em: ./listaT_T-4.txt\n",
      "Número de registros com T = -3: 189\n",
      "Arquivo salvo em: ./listaT_T-3.txt\n",
      "Número de registros com T = -2: 196\n",
      "Arquivo salvo em: ./listaT_T-2.txt\n",
      "Número de registros com T = -1: 152\n",
      "Arquivo salvo em: ./listaT_T-1.txt\n",
      "Número de registros com T = 0: 196\n",
      "Arquivo salvo em: ./listaT_T0.txt\n",
      "Número de registros com T = 1: 257\n",
      "Arquivo salvo em: ./listaT_T1.txt\n",
      "Número de registros com T = 2: 219\n",
      "Arquivo salvo em: ./listaT_T2.txt\n",
      "Número de registros com T = 3: 517\n",
      "Arquivo salvo em: ./listaT_T3.txt\n",
      "Número de registros com T = 4: 472\n",
      "Arquivo salvo em: ./listaT_T4.txt\n",
      "Número de registros com T = 5: 303\n",
      "Arquivo salvo em: ./listaT_T5.txt\n",
      "Número de registros com T = 6: 448\n",
      "Arquivo salvo em: ./listaT_T6.txt\n",
      "Número de registros com T = 7: 285\n",
      "Arquivo salvo em: ./listaT_T7.txt\n",
      "Número de registros com T = 8: 355\n",
      "Arquivo salvo em: ./listaT_T8.txt\n",
      "Número de registros com T = 9: 263\n",
      "Arquivo salvo em: ./listaT_T9.txt\n",
      "Número de registros com T = 10: 248\n",
      "Arquivo salvo em: ./listaT_T10.txt\n",
      "Número de registros com T = 11: 69\n",
      "Arquivo salvo em: ./listaT_T11.txt\n"
     ]
    },
    {
     "name": "stderr",
     "output_type": "stream",
     "text": [
      "/tmp/ipykernel_12926/2519794777.py:18: FutureWarning: The 'delim_whitespace' keyword in pd.read_csv is deprecated and will be removed in a future version. Use ``sep='\\s+'`` instead\n",
      "  df = pd.read_csv(input_path, delim_whitespace=True, comment='#', names=col_names, header=None, engine='python')\n"
     ]
    }
   ],
   "source": [
    "import pandas as pd\n",
    "\n",
    "def filtrar_t_valores(input_path, valores_t, output_prefix):\n",
    "    # Definindo os nomes das colunas manualmente\n",
    "    col_names = [\n",
    "        \"PGCname\", \"T\", \"T_inf\", \"T_sup\", \"Bulge_to_Total\", \"Bulge_to_Total_inf\", \"Bulge_to_Total_sup\",\n",
    "        \"Arm_Strength\", \"Arm_Strength_inf\", \"Arm_Strength_sup\", \"Arm_Curvature\", \"Arm_Curvature_inf\", \"Arm_Curvature_sup\",\n",
    "        \"Arm_Rotation\", \"Arm_Rotation_inf\", \"Arm_Rotation_sup\", \"Bar_Length\", \"Bar_Length_inf\", \"Bar_Length_sup\",\n",
    "        \"Inner_Ring\", \"Inner_Ring_inf\", \"Inner_Ring_sup\", \"Outer_Ring\", \"Outer_Ring_inf\", \"Outer_Ring_sup\",\n",
    "        \"Pseudo_Ring\", \"Pseudo_Ring_inf\", \"Pseudo_Ring_sup\", \"Perturbation\", \"Perturbation_inf\", \"Perturbation_sup\",\n",
    "        \"Visible_Dust\", \"Visible_Dust_inf\", \"Visible_Dust_sup\", \"Dust_Dispersion\", \"Dust_Dispersion_inf\", \"Dust_Dispersion_sup\",\n",
    "        \"Flocculence\", \"Flocculence_inf\", \"Flocculence_sup\", \"Hot_Spots\", \"Hot_Spots_inf\", \"Hot_Spots_sup\",\n",
    "        \"Inclination\", \"Inclination_inf\", \"Inclination_sup\", \"Contamination\", \"Contamination_inf\", \"Contamination_sup\",\n",
    "        \"Multiplicity\", \"Multiplicity_inf\", \"Multiplicity_sup\"\n",
    "    ]\n",
    "    \n",
    "    # Lendo o arquivo corretamente\n",
    "    df = pd.read_csv(input_path, delim_whitespace=True, comment='#', names=col_names, header=None, engine='python')\n",
    "    \n",
    "    # Verificando se as colunas 'T' e 'PGCname' existem no arquivo\n",
    "    if 'T' not in df.columns or 'PGCname' not in df.columns:\n",
    "        print(\"Erro: Colunas 'T' ou 'PGCname' não encontradas no arquivo.\")\n",
    "        print(\"Colunas detectadas:\", df.columns)\n",
    "        return\n",
    "    \n",
    "    # Criando lista completa sem filtrar T\n",
    "    lista_completa_path = \"listacompleta.txt\"\n",
    "    df[['PGCname', 'T']].to_csv(lista_completa_path, index=False, sep='\\t', encoding='utf-8')\n",
    "    print(f\"Arquivo completo salvo em: {lista_completa_path}\")\n",
    "    print(f\"Número total de registros na lista completa: {len(df)}\")\n",
    "\n",
    "    for t in valores_t:\n",
    "        # Filtrando os valores onde T == t\n",
    "        df_filtrado = df[df['T'] == t]\n",
    "        output_path = f\"{output_prefix}_T{t}.txt\"\n",
    "        \n",
    "        # Salvando apenas a coluna 'PGCname'\n",
    "        df_filtrado[['PGCname']].to_csv(output_path, index=False, sep='\\t', encoding='utf-8')\n",
    "        \n",
    "        # Exibindo a quantidade de registros encontrados\n",
    "        print(f\"Número de registros com T = {t}: {len(df_filtrado)}\")\n",
    "        print(f\"Arquivo salvo em: {output_path}\")\n",
    "\n",
    "# Caminhos dos arquivos\n",
    "input_file = \"./EFIGI_attributes.txt\"\n",
    "output_prefix = \"./listaT\"\n",
    "valores_t = [-6, -5, -4, -3, -2, -1, 0, 1, 2, 3, 4, 5, 6, 7, 8, 9, 10, 11]  # Lista de valores de T a serem filtrados\n",
    "\n",
    "# Executando a função\n",
    "filtrar_t_valores(input_file, valores_t, output_prefix)\n"
   ]
  }
 ],
 "metadata": {
  "kernelspec": {
   "display_name": "venv",
   "language": "python",
   "name": "python3"
  },
  "language_info": {
   "codemirror_mode": {
    "name": "ipython",
    "version": 3
   },
   "file_extension": ".py",
   "mimetype": "text/x-python",
   "name": "python",
   "nbconvert_exporter": "python",
   "pygments_lexer": "ipython3",
   "version": "3.11.7"
  }
 },
 "nbformat": 4,
 "nbformat_minor": 2
}
